{
 "cells": [
  {
   "cell_type": "code",
   "execution_count": 139,
   "id": "a6bc9fdd-35c1-45a2-bcc7-70d4c7eef88a",
   "metadata": {},
   "outputs": [
    {
     "name": "stdout",
     "output_type": "stream",
     "text": [
      "[73, 106, 222, 97, 118, 61, 112, 3, 128, 53, 131, 216, 229, 55, 5, 196, 2, 234, 125, 11, 31, 214, 230, 47, 149, 149, 29, 145, 225, 36, 33, 211, 90, 6, 0, 76, 188, 84, 191, 86, 66, 40, 64, 82, 192, 34, 60, 100, 15, 91, 67, 205, 37, 117, 82, 29, 147, 151, 186, 63, 48, 145, 143, 188, 25, 241, 158, 200, 15, 95, 31, 22, 99, 14, 171, 168, 50, 155, 207, 251, 195, 85, 43, 153, 33, 68, 19, 23, 39, 252, 53, 228, 119, 66, 184, 144, 66, 226, 32, 78, 65, 106, 156, 217, 47, 139, 87, 245, 184, 14, 174, 254, 91, 18, 213, 63, 59, 47, 170, 25, 14, 108, 4, 86, 226, 85, 11, 31, 135, 231, 160, 218, 246, 163, 105, 130, 210, 86, 139, 121, 181, 233, 248, 18, 227, 220, 199, 237, 175, 20, 77, 249, 46, 53, 185, 209, 161, 193, 66, 61, 116, 123, 253, 85, 74, 197, 26, 217, 150, 178, 145, 125, 107, 206, 219, 254, 79, 139, 171, 51, 5, 67, 184, 155, 198, 8, 154, 249, 70, 97, 86, 30, 229, 140, 157, 39, 20, 147, 4, 96, 33, 245, 174, 98, 101, 39, 136, 145, 243, 122, 221, 241, 164, 79, 187, 146, 43, 80, 220, 150, 123, 85, 198, 124, 197, 215, 227, 206, 187, 192, 62, 239, 155, 145, 14, 191, 248, 88, 253, 191, 111, 149, 165, 88, 94, 141, 16, 220, 70, 65, 241, 159, 117, 216, 68, 223, 148, 157, 193, 27, 226, 151, 21, 61, 73, 185, 110, 36, 202, 131, 40, 136, 253, 144, 243, 217, 78, 66, 2, 47, 107, 231, 62, 251, 202, 31, 129, 80, 111, 33, 148, 150, 110, 222, 105, 30, 202, 51, 120, 137, 163, 190, 101, 200, 239, 209, 34, 16, 172, 82, 146, 132, 249, 67, 137, 28, 38, 82, 10, 66, 82, 142, 213, 216, 160, 86, 107, 232, 140, 117, 114, 11, 199, 84, 43, 151, 143, 214, 18, 167, 69, 175, 138, 57, 181, 23, 52, 85, 32, 34, 6, 105, 241, 31, 99, 70, 218, 84, 155, 34, 122, 197, 235, 252, 61, 8, 114, 50, 7, 74, 226, 48, 1, 91, 163, 70, 178, 64, 145, 31, 230, 193, 1, 243, 131, 84, 233, 169, 93, 51, 14, 39, 198, 32, 83, 87, 177, 145, 62, 88, 46, 203, 72, 181, 33, 100, 207, 231, 197, 197, 239, 182, 19, 6, 141, 24, 116, 79, 236, 148, 227, 63, 172, 105, 229, 43, 177, 250, 116, 146, 136, 95, 136, 51, 214, 71, 226, 176, 29, 17, 234, 91, 44, 19, 23, 167, 237, 88, 127, 16, 72, 153, 162, 197, 71, 10, 30, 105, 23, 174, 202, 5, 31, 186, 142, 176, 138, 18, 216, 195, 18, 119, 46, 204, 152, 98, 48, 142, 22, 25, 242, 76, 245, 143, 139, 220, 192, 99, 11, 233, 163, 6, 73, 188, 134, 24, 49, 116, 192, 60, 77, 13, 93, 215, 101, 20, 106, 98, 75, 10, 0, 230, 4, 0, 175, 21, 227, 31, 246, 43, 134, 63, 92, 143, 135, 212, 117, 197, 148, 184, 163, 20, 162, 247, 125, 152, 0, 219, 68, 231, 45, 195, 134, 51, 184, 227, 127, 224, 187, 178, 224, 225, 103, 178, 88, 93, 37, 30, 88, 221, 249, 84, 135, 85, 121, 111, 167, 214, 127, 92, 147, 255, 73, 123, 241, 166, 90, 112, 252, 204, 187, 13, 197, 4, 192, 218, 206, 189, 198, 182, 50, 14, 132, 119, 107, 51, 34, 67, 188, 239, 198, 231, 224, 91, 227, 92, 151, 226, 183, 16, 0, 47, 82, 87, 98, 156, 222, 141, 24, 112, 58, 150, 201, 153, 71, 40, 50, 17, 252, 190, 154, 236, 234, 50, 69, 137, 75, 237, 53, 4, 52, 14, 139, 122, 39, 52, 192, 128, 55, 98, 90, 130, 140, 36, 165, 191, 203, 20, 39, 62, 65, 127, 22, 253, 71, 71, 187, 40, 145, 32, 26, 132, 155, 81, 100, 187, 42, 36, 195, 92, 23, 45, 168, 177, 59, 17, 22, 73, 214, 245, 55, 151, 54, 20, 180, 11, 249, 119, 108, 173, 111, 173, 58, 40, 13, 7, 162, 166, 211, 144, 140, 49, 169, 191, 169, 35, 89, 141, 19, 191, 181, 178, 208, 0, 96, 223, 219, 53, 92, 83, 147, 199, 17, 194, 212, 77, 155, 97, 159, 128, 207, 101, 247, 100, 96, 213, 252, 221, 74, 173, 140, 113, 28, 29, 220, 154, 210, 147, 15, 40, 54, 217, 138, 72, 20, 69, 88, 149]\n"
     ]
    }
   ],
   "source": [
    "import random\n",
    "\n",
    "# 生成随机着色板\n",
    "def randomPalette(length, min, max):   \n",
    "    return [ random.randint(min, max) for x in range(length)]\n",
    "\n",
    "color_map = randomPalette(768, 0, 255)\n",
    "print(color_map)"
   ]
  },
  {
   "cell_type": "code",
   "execution_count": 140,
   "id": "be4cf1de-47cb-47a4-8297-d8d5057da6e0",
   "metadata": {},
   "outputs": [
    {
     "data": {
      "text/plain": [
       "True"
      ]
     },
     "execution_count": 140,
     "metadata": {},
     "output_type": "execute_result"
    }
   ],
   "source": [
    "from torchvision import transforms\n",
    "im = Image.open('./datasets/CIHP/labels/0002190.png')\n",
    "# im = transforms.Resize(15, interpolation=transforms.InterpolationMode.BICUBIC)(im)\n",
    "lbl = np.asarray(im)\n",
    "\n",
    "\n",
    "lbl_pil = Image.fromarray(lbl.astype(np.uint8), mode='L')\n",
    "# 灰度图像着色\n",
    "lbl_pil.putpalette(color_map)\n",
    "\n",
    "\n",
    "(lbl == np.array(lbl_pil)).all()"
   ]
  },
  {
   "cell_type": "code",
   "execution_count": 141,
   "id": "d12d592a-060a-4854-9dc1-2e2bbec444dc",
   "metadata": {},
   "outputs": [
    {
     "data": {
      "image/png": "[encoded data removed]",
      "text/plain": [
       "<PIL.PngImagePlugin.PngImageFile image mode=L size=300x200 at 0x7F5E7D70B410>"
      ]
     },
     "execution_count": 141,
     "metadata": {},
     "output_type": "execute_result"
    }
   ],
   "source": [
    "im"
   ]
  },
  {
   "cell_type": "code",
   "execution_count": 142,
   "id": "062c3730-f4e9-4435-8315-5b7c16d6c439",
   "metadata": {},
   "outputs": [
    {
     "data": {
      "image/png": "[encoded data removed]",
      "text/plain": [
       "<PIL.Image.Image image mode=P size=300x200 at 0x7F5E7DD0ABD0>"
      ]
     },
     "execution_count": 142,
     "metadata": {},
     "output_type": "execute_result"
    }
   ],
   "source": [
    "lbl_pil"
   ]
  },
  {
   "cell_type": "code",
   "execution_count": 143,
   "id": "e6961a06-7079-4741-9c20-9749ca7931dc",
   "metadata": {},
   "outputs": [],
   "source": [
    "lbl_pil.save('./temp/test.png')"
   ]
  },
  {
   "cell_type": "code",
   "execution_count": 205,
   "id": "25d48749-aa41-49c6-9ed4-36612f0b0832",
   "metadata": {},
   "outputs": [
    {
     "name": "stdout",
     "output_type": "stream",
     "text": [
      "[[0 0 0 0 0 0 0 0 0 0 0 0 0 0 0 0 1 1 0 1 1 0 0 0 0 0 0 0 0 0]\n",
      " [0 0 0 0 0 0 0 0 0 0 0 0 0 0 0 0 1 1 0 1 1 0 0 0 0 0 0 0 0 0]\n",
      " [0 0 0 0 0 0 0 0 0 0 0 0 0 0 0 1 1 1 0 1 1 0 0 0 0 0 0 0 0 0]\n",
      " [0 0 0 0 0 0 0 0 0 0 0 0 0 0 0 1 1 1 0 1 1 0 0 0 0 0 0 0 0 0]\n",
      " [0 0 0 0 0 0 0 0 0 0 0 0 0 0 1 1 1 0 0 1 1 0 0 0 0 0 0 0 0 0]\n",
      " [0 0 0 0 0 0 0 0 0 0 0 0 0 0 1 1 1 0 0 1 1 0 0 0 0 0 0 0 0 0]\n",
      " [0 0 0 0 0 0 0 0 0 0 0 0 0 0 1 1 0 0 0 1 1 0 0 0 0 0 0 0 0 0]\n",
      " [0 0 0 0 0 0 0 0 0 0 0 0 0 0 1 1 0 0 0 1 1 0 0 0 0 0 0 0 0 0]\n",
      " [0 0 0 0 0 0 0 0 0 0 0 0 0 1 1 1 0 0 0 1 1 0 0 0 0 0 0 0 0 0]\n",
      " [0 0 0 0 0 0 0 0 0 0 0 0 0 1 1 1 0 0 0 1 1 0 0 0 0 0 0 0 0 0]\n",
      " [0 0 0 0 0 0 0 0 0 0 0 0 1 1 1 0 0 0 0 1 1 0 0 0 0 0 0 0 0 0]\n",
      " [0 0 0 0 0 0 0 0 0 0 0 0 1 1 1 0 0 0 0 1 1 0 0 0 0 0 0 0 0 0]\n",
      " [0 0 0 0 0 0 0 0 0 0 0 0 1 1 0 0 0 0 0 1 1 0 0 0 0 0 0 0 0 0]\n",
      " [0 0 0 0 0 0 0 0 0 0 0 1 1 1 0 0 0 0 0 1 1 0 0 0 0 0 0 0 0 0]\n",
      " [0 0 0 0 0 0 0 0 0 0 0 1 1 1 0 0 0 0 1 1 1 0 0 0 0 0 0 0 0 0]\n",
      " [0 0 0 0 0 0 0 0 0 0 1 1 1 0 0 0 0 0 1 1 1 0 0 0 0 0 0 0 0 0]\n",
      " [0 0 0 0 0 0 0 0 0 0 1 1 1 0 0 0 0 1 1 1 0 0 0 0 0 0 0 0 0 0]\n",
      " [0 0 0 0 0 0 0 0 0 1 1 1 0 0 0 0 0 1 1 1 0 0 0 0 0 0 0 0 0 0]\n",
      " [0 0 0 0 0 0 0 0 0 1 1 1 0 0 0 0 1 1 1 0 0 0 0 0 0 0 0 0 0 0]\n",
      " [0 0 0 0 0 0 0 0 1 1 1 0 0 0 0 0 1 1 1 0 0 0 0 0 0 0 0 0 0 0]\n",
      " [0 0 0 0 0 0 0 0 1 1 1 0 0 0 0 1 1 1 0 0 0 0 0 0 0 0 0 0 0 0]\n",
      " [0 0 0 0 0 0 0 1 1 1 0 0 0 0 1 1 1 1 0 0 0 0 0 0 0 0 0 0 0 0]\n",
      " [0 0 0 0 0 0 1 1 1 1 0 0 0 1 1 1 1 0 0 0 0 0 0 0 0 0 0 0 0 0]\n",
      " [0 0 0 0 0 0 1 1 1 0 0 0 0 1 1 1 0 0 0 0 0 0 0 0 0 0 0 0 0 0]\n",
      " [0 0 0 0 0 1 1 1 0 0 0 0 1 1 1 0 0 0 0 0 0 0 0 0 0 0 0 0 0 0]\n",
      " [0 0 0 0 1 1 1 1 0 0 1 1 1 1 1 0 0 0 0 0 0 0 0 0 0 0 0 0 0 0]\n",
      " [0 0 0 1 1 1 1 0 1 1 1 1 1 1 0 0 0 0 0 0 0 0 0 0 0 0 0 0 0 0]\n",
      " [0 0 0 1 1 1 1 1 1 1 1 1 0 0 0 0 0 0 0 0 0 0 0 0 0 0 0 0 0 0]\n",
      " [0 0 1 1 1 1 1 1 1 1 0 0 0 0 0 0 0 0 0 0 0 0 0 0 0 0 0 0 0 0]\n",
      " [1 1 1 1 1 1 1 1 0 0 0 0 0 0 0 0 0 0 0 0 0 0 0 0 0 0 0 0 0 0]]\n"
     ]
    }
   ],
   "source": [
    "# edge\n",
    "from torchvision import transforms\n",
    "edge = Image.open('./datasets/CIHP/edges/0002190.png')\n",
    "# edge = transforms.Resize(30, transforms.InterpolationMode.BICUBIC)(edge)\n",
    "edge_a = np.array(edge)\n",
    "print(edge_a[60:90, 90:120])"
   ]
  },
  {
   "cell_type": "code",
   "execution_count": 204,
   "id": "7413c10e-54ba-4eab-bf61-33257fbd3e59",
   "metadata": {},
   "outputs": [],
   "source": [
    "lbl_pil = Image.fromarray(edge_a.astype(np.uint8), mode='L')"
   ]
  },
  {
   "cell_type": "code",
   "execution_count": 154,
   "id": "d6135c22-defc-478c-ae24-ffa002b56db2",
   "metadata": {},
   "outputs": [],
   "source": [
    "lbl_pil.putpalette(color_map)"
   ]
  },
  {
   "cell_type": "code",
   "execution_count": 155,
   "id": "f5b91ad4-73a1-49ae-9d68-718f5afc9609",
   "metadata": {},
   "outputs": [
    {
     "data": {
      "image/png": "[encoded data removed]",
      "text/plain": [
       "<PIL.Image.Image image mode=P size=300x200 at 0x7F5E7D7078D0>"
      ]
     },
     "execution_count": 155,
     "metadata": {},
     "output_type": "execute_result"
    }
   ],
   "source": [
    "lbl_pil"
   ]
  },
  {
   "cell_type": "code",
   "execution_count": 304,
   "id": "e45818ea-abda-4b00-91ac-6d952fce38ba",
   "metadata": {},
   "outputs": [
    {
     "data": {
      "text/plain": [
       "(200, 300)"
      ]
     },
     "execution_count": 304,
     "metadata": {},
     "output_type": "execute_result"
    }
   ],
   "source": [
    "import cv2\n",
    "im = cv2.imread('./datasets/CIHP/edges/0002190.png')\n",
    "im = cv2.cvtColor(im, cv2.COLOR_BGR2GRAY)\n",
    "im.shape"
   ]
  },
  {
   "cell_type": "code",
   "execution_count": 286,
   "id": "c10d3006-ed91-477b-946f-a924a1ee833f",
   "metadata": {},
   "outputs": [],
   "source": [
    "im_scale = cv2.resize(im, (15, 15), interpolation=cv2.INTER_CUBIC)"
   ]
  },
  {
   "cell_type": "code",
   "execution_count": 314,
   "id": "ff3e7d21-5f6f-41ed-a03a-8861e9e0f84f",
   "metadata": {},
   "outputs": [
    {
     "data": {
      "text/plain": [
       "array([[0, 0, 0, 0, 0, 0, 1, 0, 0, 0, 0, 0, 0, 0, 0],\n",
       "       [0, 0, 0, 0, 0, 0, 0, 0, 0, 0, 0, 0, 0, 0, 0],\n",
       "       [0, 0, 0, 0, 0, 0, 0, 0, 0, 0, 0, 0, 0, 0, 0],\n",
       "       [0, 0, 0, 0, 0, 1, 0, 0, 0, 0, 0, 0, 0, 0, 0],\n",
       "       [0, 0, 0, 0, 0, 1, 0, 0, 0, 0, 0, 0, 0, 0, 0],\n",
       "       [0, 0, 0, 0, 0, 1, 0, 0, 0, 0, 0, 0, 0, 0, 0],\n",
       "       [0, 0, 0, 0, 0, 0, 0, 0, 1, 0, 0, 0, 0, 0, 0],\n",
       "       [0, 0, 0, 1, 0, 0, 0, 0, 0, 0, 0, 0, 0, 0, 0],\n",
       "       [0, 0, 1, 0, 0, 0, 0, 0, 0, 0, 0, 0, 0, 0, 0],\n",
       "       [0, 0, 0, 0, 0, 0, 0, 0, 0, 0, 0, 0, 0, 0, 0],\n",
       "       [0, 0, 0, 0, 0, 0, 0, 0, 0, 0, 0, 0, 0, 0, 0],\n",
       "       [0, 1, 0, 0, 0, 0, 0, 0, 0, 0, 1, 0, 0, 0, 0],\n",
       "       [0, 0, 0, 0, 0, 0, 0, 0, 0, 0, 0, 0, 0, 0, 0],\n",
       "       [0, 0, 0, 0, 0, 0, 0, 0, 0, 0, 0, 0, 0, 0, 0],\n",
       "       [0, 0, 0, 0, 0, 0, 0, 0, 0, 0, 0, 0, 0, 0, 0]], dtype=uint8)"
      ]
     },
     "execution_count": 314,
     "metadata": {},
     "output_type": "execute_result"
    }
   ],
   "source": [
    "im_scale"
   ]
  },
  {
   "cell_type": "code",
   "execution_count": 315,
   "id": "86822828-761f-495a-8ddc-f7e646adb9ef",
   "metadata": {},
   "outputs": [
    {
     "data": {
      "text/plain": [
       "<matplotlib.image.AxesImage at 0x7f5e65828d90>"
      ]
     },
     "execution_count": 315,
     "metadata": {},
     "output_type": "execute_result"
    },
    {
     "data": {
      "image/png": "[encoded data removed]",
      "text/plain": [
       "<Figure size 432x288 with 1 Axes>"
      ]
     },
     "metadata": {
      "needs_background": "light"
     },
     "output_type": "display_data"
    }
   ],
   "source": [
    "import matplotlib.pyplot as plt\n",
    "plt.imshow(im_scale)"
   ]
  },
  {
   "cell_type": "code",
   "execution_count": 316,
   "id": "8d5c86ad-204c-4a07-a0e1-5e1dc64fba5c",
   "metadata": {},
   "outputs": [
    {
     "data": {
      "text/plain": [
       "<matplotlib.image.AxesImage at 0x7f5e657b3ed0>"
      ]
     },
     "execution_count": 316,
     "metadata": {},
     "output_type": "execute_result"
    },
    {
     "data": {
      "image/png": "[encoded data removed]",
      "text/plain": [
       "<Figure size 432x288 with 1 Axes>"
      ]
     },
     "metadata": {
      "needs_background": "light"
     },
     "output_type": "display_data"
    }
   ],
   "source": [
    "plt.imshow(im)"
   ]
  },
  {
   "cell_type": "code",
   "execution_count": 320,
   "id": "c752cc3f-877d-48c8-bd90-368b2b6bb6db",
   "metadata": {},
   "outputs": [],
   "source": [
    "label = cv2.imread('./datasets/CIHP/labels/0002190.png')\n",
    "label = cv2.cvtColor(label, cv2.COLOR_BGR2GRAY)"
   ]
  },
  {
   "cell_type": "code",
   "execution_count": 338,
   "id": "94775732-9f2e-451f-91aa-09cb736ba040",
   "metadata": {},
   "outputs": [
    {
     "data": {
      "text/plain": [
       "<matplotlib.image.AxesImage at 0x7f5e6568d590>"
      ]
     },
     "execution_count": 338,
     "metadata": {},
     "output_type": "execute_result"
    },
    {
     "data": {
      "image/png": "[encoded data removed]",
      "text/plain": [
       "<Figure size 432x288 with 1 Axes>"
      ]
     },
     "metadata": {
      "needs_background": "light"
     },
     "output_type": "display_data"
    }
   ],
   "source": [
    "plt.imshow(label)"
   ]
  },
  {
   "cell_type": "code",
   "execution_count": 355,
   "id": "3378fb25-8495-45f9-9770-94fdbeeaf7ed",
   "metadata": {},
   "outputs": [
    {
     "data": {
      "text/plain": [
       "1327"
      ]
     },
     "execution_count": 355,
     "metadata": {},
     "output_type": "execute_result"
    }
   ],
   "source": [
    "temp = cv2.imread('./datasets/CIHP/labels/0002190.png')\n",
    "temp = cv2.cvtColor(temp, cv2.COLOR_BGR2GRAY)\n",
    "len(temp[temp > 14])"
   ]
  },
  {
   "cell_type": "code",
   "execution_count": null,
   "id": "a6628b67-33f9-4183-83f6-5522494d74d7",
   "metadata": {},
   "outputs": [],
   "source": []
  }
 ],
 "metadata": {
  "kernelspec": {
   "display_name": "Python 3 (ipykernel)",
   "language": "python",
   "name": "python3"
  },
  "language_info": {
   "codemirror_mode": {
    "name": "ipython",
    "version": 3
   },
   "file_extension": ".py",
   "mimetype": "text/x-python",
   "name": "python",
   "nbconvert_exporter": "python",
   "pygments_lexer": "ipython3",
   "version": "3.7.11"
  }
 },
 "nbformat": 4,
 "nbformat_minor": 5
}
